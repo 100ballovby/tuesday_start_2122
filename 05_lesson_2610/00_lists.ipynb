{
 "cells": [
  {
   "cell_type": "markdown",
   "metadata": {
    "collapsed": true
   },
   "source": [
    "# Массивы\n",
    "\n",
    "<p><b>Массив</b> - упорядоченная коллекция данных, одного типа и ограниченной длины.</p>\n",
    "\n",
    "<pre><code>\n",
    "int array[5] = {\n",
    "    1, 56, 7, 4, 89\n",
    "}\n",
    "</code></pre>\n",
    "\n",
    "<p>В <b>Python</b> массивы отствуют. Вместо них были добавлены списки. Список - упорядоченная коллекция данных, не имеющая ограничений по типу данных и по количеству элементов. Элементы списка заключены в <code>[]</code> и разделены между собой <code>,</code>.</p>"
   ]
  },
  {
   "cell_type": "code",
   "execution_count": null,
   "metadata": {
    "pycharm": {
     "is_executing": true
    }
   },
   "outputs": [],
   "source": [
    "my_list = []\n",
    "\n",
    "print(type(my_list))"
   ]
  },
  {
   "cell_type": "markdown",
   "metadata": {},
   "source": [
    "<p><code>type(x)</code> - определяет тип данных переменной <code>x</code>.</p>"
   ]
  },
  {
   "cell_type": "code",
   "execution_count": 2,
   "metadata": {},
   "outputs": [],
   "source": [
    "favorite_food = ['pizza', 'pasta', 'cookies', 'grape', 'orange']"
   ]
  },
  {
   "cell_type": "markdown",
   "metadata": {},
   "source": [
    "<p><b>Элементы списка можно переназначать.</b> Для перензначения элемента, нужно обратиться к имени списка, выбрать необходимый элемент по его порядковому номеру, поставить значок <code>=</code> и указать новое значение.</p>\n",
    "\n",
    "<p>Списки поддерживают индексацию - каждому элементу списка присвоен свой порядковый номер, нумерация начинается с <code>0</code>.</p>"
   ]
  },
  {
   "cell_type": "code",
   "execution_count": 3,
   "metadata": {},
   "outputs": [
    {
     "name": "stdout",
     "output_type": "stream",
     "text": [
      "['pizza', 'pasta', 'cookies', 'apple', 'orange']\n"
     ]
    }
   ],
   "source": [
    "favorite_food[3] = 'apple'\n",
    "print(favorite_food)"
   ]
  },
  {
   "cell_type": "markdown",
   "metadata": {},
   "source": [
    "## Математические операции со списками\n",
    "\n",
    "<ol>\n",
    "    <li><code>+</code> - сложение. Можно складывать только <code>list</code> и <code>list</code>, в этом случае вы получите объединенный список.</li>\n",
    "    <li><code>*</code> - умножение. Можно умножать только <code>list</code> на <code>int</code>, в этом случае вы получите объединенный список, который состоит из изначального списка, повторенного <code>int</code>.</li>\n",
    "</ol>"
   ]
  },
  {
   "cell_type": "code",
   "execution_count": 5,
   "metadata": {},
   "outputs": [
    {
     "name": "stdout",
     "output_type": "stream",
     "text": [
      "[1, 2, 3, 6, 5, 4]\n",
      "[1, 2, 3, 1, 2, 3, 1, 2, 3, 1, 2, 3]\n"
     ]
    }
   ],
   "source": [
    "l1 = [1, 2, 3]\n",
    "l2 = [6, 5, 4]\n",
    "\n",
    "print(l1 + l2)\n",
    "\n",
    "print(l1 * 4)"
   ]
  },
  {
   "cell_type": "markdown",
   "metadata": {},
   "source": [
    "## Методы списков\n",
    "\n",
    "<ol>\n",
    "    <li><code>.append(object)</code> - добавляет в конец списка элемент <code>object</code>;</li>\n",
    "    <li><code>.insert(index, object)</code> вставляет элемент <code>object</code> на место <code>index</code>. Оставшиеся элементы сдвигаются;</li>\n",
    "    <li><code>.pop()</code> - удаляет последний элемент списка. <code>.pop(index)</code> - удаляет из списка элемент с индексом <code>index</code>;</li>\n",
    "    <li><code>.sort()</code> - сортирует элементы списка по возрастанию.</li>\n",
    "</ol>"
   ]
  },
  {
   "cell_type": "code",
   "execution_count": 15,
   "metadata": {},
   "outputs": [
    {
     "name": "stdout",
     "output_type": "stream",
     "text": [
      "[67, 4, 90, 43, 12, 67, 89, 35, -10, -35]\n"
     ]
    }
   ],
   "source": [
    "nums = [67, 4, 90, 43, 12, 67, 89, 35, -10]\n",
    "\n",
    "nums.append(-35)\n",
    "print(nums)"
   ]
  },
  {
   "cell_type": "markdown",
   "metadata": {},
   "source": [
    "<p>Добавил число <code>-35</code> в конец списка.</p>"
   ]
  },
  {
   "cell_type": "code",
   "execution_count": 16,
   "metadata": {},
   "outputs": [
    {
     "name": "stdout",
     "output_type": "stream",
     "text": [
      "[67, 4, 90, 16, 43, 12, 67, 89, 35, -10, -35]\n"
     ]
    }
   ],
   "source": [
    "nums.insert(3, 16)\n",
    "print(nums)"
   ]
  },
  {
   "cell_type": "markdown",
   "metadata": {},
   "source": [
    "<p>При использовании метода <code>.insert()</code> элементы сдвигаются вправо.</p>"
   ]
  },
  {
   "cell_type": "code",
   "execution_count": 17,
   "metadata": {},
   "outputs": [
    {
     "name": "stdout",
     "output_type": "stream",
     "text": [
      "[67, 4, 90, 16, 43, 12, 67, 89, 35, -10]\n",
      "[67, 90, 16, 43, 12, 67, 89, 35, -10]\n"
     ]
    }
   ],
   "source": [
    "nums.pop()  # удалить последний\n",
    "print(nums)\n",
    "\n",
    "nums.pop(1)  # удалить элемент с индексом 1 (4)\n",
    "print(nums)"
   ]
  },
  {
   "cell_type": "code",
   "execution_count": 18,
   "metadata": {},
   "outputs": [
    {
     "name": "stdout",
     "output_type": "stream",
     "text": [
      "[-10, 12, 16, 35, 43, 67, 67, 89, 90]\n"
     ]
    }
   ],
   "source": [
    "nums.sort()\n",
    "print(nums)"
   ]
  },
  {
   "cell_type": "markdown",
   "metadata": {},
   "source": [
    "## Задача 1. \n",
    "\n",
    "<p>Необходимо наполнить список 30 случайными чисами.</p>"
   ]
  },
  {
   "cell_type": "code",
   "execution_count": 9,
   "metadata": {},
   "outputs": [
    {
     "name": "stdout",
     "output_type": "stream",
     "text": [
      "[17, 27, 1, 3, 23, 19, 14, 10, 9, 22, 5, 3, 28, 15, 14, 6, 25, 18, 12, 7, 15, 2, 5, 25, 25, 4, 22, 27, 8, 23]\n"
     ]
    }
   ],
   "source": [
    "import random as r\n",
    "\n",
    "r_list = []\n",
    "for number in range(30):\n",
    "    r_list.append(r.randint(1, 30))\n",
    "\n",
    "print(r_list)"
   ]
  },
  {
   "cell_type": "markdown",
   "metadata": {},
   "source": [
    "## Задача №2.\n",
    "\n",
    "<p>Наполнить список 10 случайными числами. Числа не должны повторяться и должны делиться на 2.</p>\n",
    "\n",
    "<p>Просто модернизируем предыдущий код</p>"
   ]
  },
  {
   "cell_type": "code",
   "execution_count": 10,
   "metadata": {},
   "outputs": [
    {
     "name": "stdout",
     "output_type": "stream",
     "text": [
      "[92, 8]\n"
     ]
    }
   ],
   "source": [
    "import random as r\n",
    "\n",
    "r_list = []\n",
    "for number in range(3):\n",
    "    r_num = r.randint(1, 100)\n",
    "    if ((r_num % 2) == 0) and not (r_num in r_list):\n",
    "        r_list.append(r_num)\n",
    "\n",
    "print(r_list)"
   ]
  },
  {
   "cell_type": "markdown",
   "metadata": {},
   "source": [
    "<p>проблема в том, что цикл <code>for</code> повторяется только определенное количество раз. Для решения задачи понадобится использоование цикла <code>while</code>.</p>"
   ]
  },
  {
   "cell_type": "code",
   "execution_count": 14,
   "metadata": {},
   "outputs": [
    {
     "name": "stdout",
     "output_type": "stream",
     "text": [
      "[62, 22, 90, 66, 52, 28, 68, 84, 78, 8, 42, 74, 94, 96, 24, 30, 80, 56, 14, 4, 44, 72, 46, 26, 60, 82, 58, 40, 70, 32]\n"
     ]
    }
   ],
   "source": [
    "import random as r\n",
    "\n",
    "r_list = []\n",
    "while len(r_list) < 30:\n",
    "    r_num = r.randint(1, 100)\n",
    "    if ((r_num % 2) == 0) and not (r_num in r_list):\n",
    "        r_list.append(r_num)\n",
    "\n",
    "print(r_list)"
   ]
  },
  {
   "cell_type": "markdown",
   "metadata": {},
   "source": [
    "<p>Функция <code>len(x)</code> используется для измерения длины элемента <code>x</code>.</p>"
   ]
  },
  {
   "cell_type": "markdown",
   "metadata": {},
   "source": [
    "## Задача 3\n",
    "\n",
    "<p>Написать программу, которая получает оценки <code>n</code> учеников за контрольную работу. Записывает их в список. И считает среднее арифметическое. Количество учеников вводится пользователем. Оценка каждого ученика вводится пользователем.</p>"
   ]
  },
  {
   "cell_type": "code",
   "execution_count": 16,
   "metadata": {},
   "outputs": [
    {
     "name": "stdout",
     "output_type": "stream",
     "text": [
      "Введите количество учеников: 3\n",
      "Введите оценку 1 студента: 7\n",
      "Введите оценку 2 студента: 6\n",
      "Введите оценку 3 студента: 9\n",
      "Среднее арифметическое: 7.333333333333333\n"
     ]
    }
   ],
   "source": [
    "n = int(input('Введите количество учеников: '))\n",
    "marks = []\n",
    "\n",
    "for mark in range(n):\n",
    "    marks.append(int(\n",
    "            input(f'Введите оценку {mark + 1} студента: ')\n",
    "        ))\n",
    "\n",
    "print(f'Среднее арифметическое: {sum(marks) / n}')"
   ]
  },
  {
   "cell_type": "markdown",
   "metadata": {},
   "source": [
    "<p>Функция <code>sum(collection)</code> считает сумму элементов в коллекции <code>collection</code>.</p>\n",
    "\n",
    "<hr>\n",
    "\n",
    "## Классические алгоритмы.\n",
    "### Поиск \n",
    "\n",
    "<p>Алгоритм линейного поиска звучит так: просматривать каждый элемент массива и сравнивать его с ключом до того момента, пока ключ не будет равен элементу. Если элементы закончились, не выдавать ничего. Если элемент найден, выдать его.</p>"
   ]
  },
  {
   "cell_type": "code",
   "execution_count": 18,
   "metadata": {},
   "outputs": [
    {
     "name": "stdout",
     "output_type": "stream",
     "text": [
      "Какой элемент ищем? 6789\n"
     ]
    }
   ],
   "source": [
    "num_list = [56, 12, 7, 9, 2, 3, 90, 16, 21, 5]\n",
    "\n",
    "key = int(input('Какой элемент ищем? '))\n",
    "\n",
    "for element in num_list: # просматриваю каждый элемент массива \n",
    "    if key == element:\n",
    "        print('Нашел!', key)\n",
    "        break"
   ]
  },
  {
   "cell_type": "code",
   "execution_count": null,
   "metadata": {},
   "outputs": [],
   "source": []
  }
 ],
 "metadata": {
  "kernelspec": {
   "display_name": "Python 3 (ipykernel)",
   "language": "python",
   "name": "python3"
  },
  "language_info": {
   "codemirror_mode": {
    "name": "ipython",
    "version": 3
   },
   "file_extension": ".py",
   "mimetype": "text/x-python",
   "name": "python",
   "nbconvert_exporter": "python",
   "pygments_lexer": "ipython3",
   "version": "3.7.7"
  }
 },
 "nbformat": 4,
 "nbformat_minor": 1
}
